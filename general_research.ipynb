{
 "cells": [
  {
   "cell_type": "code",
   "execution_count": 4,
   "outputs": [],
   "source": [
    "import tushare as ts\n",
    "\n",
    "ts.set_token('e9628663b45f87ea92e39aaa7127063830ebd5090bc1e8943138b84f')\n",
    "pro = ts.pro_api()"
   ],
   "metadata": {
    "collapsed": false
   }
  },
  {
   "cell_type": "code",
   "execution_count": 2,
   "outputs": [],
   "source": [
    "date = '20230328'\n",
    "year = date[:4]\n",
    "short_date = date[4:]\n",
    "if short_date <= '0430':\n",
    "    yj_peridos = [year + '0331', str(int(year) - 1) + '1231', year + '0630']\n",
    "elif short_date <= '0830':\n",
    "    yj_peridos = [year + '0630', year + '0930', year + '1231']\n",
    "elif short_date <= '1030':\n",
    "    yj_peridos = [year + '0930', year + '1231']\n",
    "elif short_date <= '1101':\n",
    "    yj_peridos = [year + '1231']"
   ],
   "metadata": {
    "collapsed": false
   }
  },
  {
   "cell_type": "code",
   "execution_count": 3,
   "outputs": [],
   "source": [
    "def get_yj_period(date):\n",
    "    year = date[:4]\n",
    "    short_date = date[4:]\n",
    "    if short_date <= '0430':\n",
    "        yj_peridos = [str(int(year) - 1) + '1231']\n",
    "    elif short_date <= '0830':\n",
    "        yj_peridos = [year + '0630']\n",
    "    elif short_date <= '1030':\n",
    "        yj_peridos = [year + '0930']\n",
    "    elif short_date <= '1101':\n",
    "        yj_peridos = [year + '1231']\n",
    "    return yj_peridos\n"
   ],
   "metadata": {
    "collapsed": false
   }
  },
  {
   "cell_type": "code",
   "execution_count": 4,
   "outputs": [
    {
     "data": {
      "text/plain": "['20230331', '20221231', '20230630']"
     },
     "execution_count": 4,
     "metadata": {},
     "output_type": "execute_result"
    }
   ],
   "source": [
    "get_yj_period('20230328')"
   ],
   "metadata": {
    "collapsed": false
   }
  },
  {
   "cell_type": "code",
   "execution_count": 1,
   "outputs": [
    {
     "data": {
      "text/plain": "      序号      代码     名称        停牌时间      停牌截止时间  停牌期限    停牌原因      所属市场  \\\n0      1  300309  *ST吉艾  2023-03-29         NaT  连续停牌  刊登重要公告  深交所风险警示板   \n1      2  603162   海通发展  2023-03-29  2023-03-29  盘中停牌  交易异常波动     上交所主板   \n2      3  600925   苏能股份  2023-03-29  2023-03-29  盘中停牌  交易异常波动     上交所主板   \n3      4  603291   联合水务  2023-03-27  2023-03-27  盘中停牌  交易异常波动     上交所主板   \n4      5  000697  *ST炼石  2023-03-22  2023-03-22  停牌一天  刊登重要公告  深交所风险警示板   \n..   ...     ...    ...         ...         ...   ...     ...       ...   \n429  430  873223   荣亿精密  2021-09-10  2022-06-08  连续停牌  刊登重要公告   北京证券交易所   \n430  431  834062   科润智控  2021-09-01  2022-07-12  连续停牌  刊登重要公告   北京证券交易所   \n431  432  870299   灿能电力  2021-07-01  2022-06-09  连续停牌  刊登重要公告   北京证券交易所   \n432  433  831834   三维股份  2021-06-29  2022-08-19  连续停牌  刊登重要公告   北京证券交易所   \n433  434  837821   则成电子  2021-06-22  2022-07-05  连续停牌  刊登重要公告   北京证券交易所   \n\n         预计复牌时间  \n0           NaT  \n1           NaT  \n2           NaT  \n3           NaT  \n4    2023-03-23  \n..          ...  \n429  2022-06-09  \n430  2022-07-13  \n431  2022-06-10  \n432  2022-08-22  \n433  2022-07-06  \n\n[434 rows x 9 columns]",
      "text/html": "<div>\n<style scoped>\n    .dataframe tbody tr th:only-of-type {\n        vertical-align: middle;\n    }\n\n    .dataframe tbody tr th {\n        vertical-align: top;\n    }\n\n    .dataframe thead th {\n        text-align: right;\n    }\n</style>\n<table border=\"1\" class=\"dataframe\">\n  <thead>\n    <tr style=\"text-align: right;\">\n      <th></th>\n      <th>序号</th>\n      <th>代码</th>\n      <th>名称</th>\n      <th>停牌时间</th>\n      <th>停牌截止时间</th>\n      <th>停牌期限</th>\n      <th>停牌原因</th>\n      <th>所属市场</th>\n      <th>预计复牌时间</th>\n    </tr>\n  </thead>\n  <tbody>\n    <tr>\n      <th>0</th>\n      <td>1</td>\n      <td>300309</td>\n      <td>*ST吉艾</td>\n      <td>2023-03-29</td>\n      <td>NaT</td>\n      <td>连续停牌</td>\n      <td>刊登重要公告</td>\n      <td>深交所风险警示板</td>\n      <td>NaT</td>\n    </tr>\n    <tr>\n      <th>1</th>\n      <td>2</td>\n      <td>603162</td>\n      <td>海通发展</td>\n      <td>2023-03-29</td>\n      <td>2023-03-29</td>\n      <td>盘中停牌</td>\n      <td>交易异常波动</td>\n      <td>上交所主板</td>\n      <td>NaT</td>\n    </tr>\n    <tr>\n      <th>2</th>\n      <td>3</td>\n      <td>600925</td>\n      <td>苏能股份</td>\n      <td>2023-03-29</td>\n      <td>2023-03-29</td>\n      <td>盘中停牌</td>\n      <td>交易异常波动</td>\n      <td>上交所主板</td>\n      <td>NaT</td>\n    </tr>\n    <tr>\n      <th>3</th>\n      <td>4</td>\n      <td>603291</td>\n      <td>联合水务</td>\n      <td>2023-03-27</td>\n      <td>2023-03-27</td>\n      <td>盘中停牌</td>\n      <td>交易异常波动</td>\n      <td>上交所主板</td>\n      <td>NaT</td>\n    </tr>\n    <tr>\n      <th>4</th>\n      <td>5</td>\n      <td>000697</td>\n      <td>*ST炼石</td>\n      <td>2023-03-22</td>\n      <td>2023-03-22</td>\n      <td>停牌一天</td>\n      <td>刊登重要公告</td>\n      <td>深交所风险警示板</td>\n      <td>2023-03-23</td>\n    </tr>\n    <tr>\n      <th>...</th>\n      <td>...</td>\n      <td>...</td>\n      <td>...</td>\n      <td>...</td>\n      <td>...</td>\n      <td>...</td>\n      <td>...</td>\n      <td>...</td>\n      <td>...</td>\n    </tr>\n    <tr>\n      <th>429</th>\n      <td>430</td>\n      <td>873223</td>\n      <td>荣亿精密</td>\n      <td>2021-09-10</td>\n      <td>2022-06-08</td>\n      <td>连续停牌</td>\n      <td>刊登重要公告</td>\n      <td>北京证券交易所</td>\n      <td>2022-06-09</td>\n    </tr>\n    <tr>\n      <th>430</th>\n      <td>431</td>\n      <td>834062</td>\n      <td>科润智控</td>\n      <td>2021-09-01</td>\n      <td>2022-07-12</td>\n      <td>连续停牌</td>\n      <td>刊登重要公告</td>\n      <td>北京证券交易所</td>\n      <td>2022-07-13</td>\n    </tr>\n    <tr>\n      <th>431</th>\n      <td>432</td>\n      <td>870299</td>\n      <td>灿能电力</td>\n      <td>2021-07-01</td>\n      <td>2022-06-09</td>\n      <td>连续停牌</td>\n      <td>刊登重要公告</td>\n      <td>北京证券交易所</td>\n      <td>2022-06-10</td>\n    </tr>\n    <tr>\n      <th>432</th>\n      <td>433</td>\n      <td>831834</td>\n      <td>三维股份</td>\n      <td>2021-06-29</td>\n      <td>2022-08-19</td>\n      <td>连续停牌</td>\n      <td>刊登重要公告</td>\n      <td>北京证券交易所</td>\n      <td>2022-08-22</td>\n    </tr>\n    <tr>\n      <th>433</th>\n      <td>434</td>\n      <td>837821</td>\n      <td>则成电子</td>\n      <td>2021-06-22</td>\n      <td>2022-07-05</td>\n      <td>连续停牌</td>\n      <td>刊登重要公告</td>\n      <td>北京证券交易所</td>\n      <td>2022-07-06</td>\n    </tr>\n  </tbody>\n</table>\n<p>434 rows × 9 columns</p>\n</div>"
     },
     "execution_count": 1,
     "metadata": {},
     "output_type": "execute_result"
    }
   ],
   "source": [
    "import akshare as ak\n",
    "\n",
    "ak.stock_tfp_em(date=\"20220523\")"
   ],
   "metadata": {
    "collapsed": false
   }
  },
  {
   "cell_type": "code",
   "execution_count": 29,
   "outputs": [
    {
     "data": {
      "text/plain": "  ts_code trade_date  open  high   low  close  pre_close  change  pct_chg  \\\n0  000001   20180702  9.05  9.05  8.55   8.61       9.09   -0.48    -5.28   \n1  600000   20180702  9.55  9.55  9.23   9.29       9.56   -0.27    -2.82   \n\n          vol       amount  \n0  1315520.13  1158545.868  \n1   226690.89   212743.905  ",
      "text/html": "<div>\n<style scoped>\n    .dataframe tbody tr th:only-of-type {\n        vertical-align: middle;\n    }\n\n    .dataframe tbody tr th {\n        vertical-align: top;\n    }\n\n    .dataframe thead th {\n        text-align: right;\n    }\n</style>\n<table border=\"1\" class=\"dataframe\">\n  <thead>\n    <tr style=\"text-align: right;\">\n      <th></th>\n      <th>ts_code</th>\n      <th>trade_date</th>\n      <th>open</th>\n      <th>high</th>\n      <th>low</th>\n      <th>close</th>\n      <th>pre_close</th>\n      <th>change</th>\n      <th>pct_chg</th>\n      <th>vol</th>\n      <th>amount</th>\n    </tr>\n  </thead>\n  <tbody>\n    <tr>\n      <th>0</th>\n      <td>000001</td>\n      <td>20180702</td>\n      <td>9.05</td>\n      <td>9.05</td>\n      <td>8.55</td>\n      <td>8.61</td>\n      <td>9.09</td>\n      <td>-0.48</td>\n      <td>-5.28</td>\n      <td>1315520.13</td>\n      <td>1158545.868</td>\n    </tr>\n    <tr>\n      <th>1</th>\n      <td>600000</td>\n      <td>20180702</td>\n      <td>9.55</td>\n      <td>9.55</td>\n      <td>9.23</td>\n      <td>9.29</td>\n      <td>9.56</td>\n      <td>-0.27</td>\n      <td>-2.82</td>\n      <td>226690.89</td>\n      <td>212743.905</td>\n    </tr>\n  </tbody>\n</table>\n</div>"
     },
     "execution_count": 29,
     "metadata": {},
     "output_type": "execute_result"
    }
   ],
   "source": [
    "df = pro.daily(ts_code=['000001.SZ', '600000.SH'], start_date='20180702', end_date='20180702')\n",
    "df['ts_code'] = [x[:6] for x in df.ts_code.tolist()]\n",
    "df"
   ],
   "metadata": {
    "collapsed": false
   }
  },
  {
   "cell_type": "code",
   "execution_count": 26,
   "outputs": [
    {
     "data": {
      "text/plain": "['ts_code',\n 'trade_date',\n 'open',\n 'high',\n 'low',\n 'close',\n 'pre_close',\n 'change',\n 'pct_chg',\n 'vol',\n 'amount']"
     },
     "execution_count": 26,
     "metadata": {},
     "output_type": "execute_result"
    }
   ],
   "source": [
    "df.columns.tolist()"
   ],
   "metadata": {
    "collapsed": false
   }
  },
  {
   "cell_type": "code",
   "execution_count": 37,
   "outputs": [],
   "source": [
    "tick = dict(zip(df.columns.tolist(), df.loc[df['ts_code'] == '000001',].iloc[0]))"
   ],
   "metadata": {
    "collapsed": false
   }
  },
  {
   "cell_type": "code",
   "execution_count": 38,
   "outputs": [
    {
     "data": {
      "text/plain": "  ts_code trade_date  open  high   low  close  pre_close  change  pct_chg  \\\n0  000001   20180702  9.05  9.05  8.55   8.61       9.09   -0.48    -5.28   \n\n          vol       amount  \n0  1315520.13  1158545.868  ",
      "text/html": "<div>\n<style scoped>\n    .dataframe tbody tr th:only-of-type {\n        vertical-align: middle;\n    }\n\n    .dataframe tbody tr th {\n        vertical-align: top;\n    }\n\n    .dataframe thead th {\n        text-align: right;\n    }\n</style>\n<table border=\"1\" class=\"dataframe\">\n  <thead>\n    <tr style=\"text-align: right;\">\n      <th></th>\n      <th>ts_code</th>\n      <th>trade_date</th>\n      <th>open</th>\n      <th>high</th>\n      <th>low</th>\n      <th>close</th>\n      <th>pre_close</th>\n      <th>change</th>\n      <th>pct_chg</th>\n      <th>vol</th>\n      <th>amount</th>\n    </tr>\n  </thead>\n  <tbody>\n    <tr>\n      <th>0</th>\n      <td>000001</td>\n      <td>20180702</td>\n      <td>9.05</td>\n      <td>9.05</td>\n      <td>8.55</td>\n      <td>8.61</td>\n      <td>9.09</td>\n      <td>-0.48</td>\n      <td>-5.28</td>\n      <td>1315520.13</td>\n      <td>1158545.868</td>\n    </tr>\n  </tbody>\n</table>\n</div>"
     },
     "execution_count": 38,
     "metadata": {},
     "output_type": "execute_result"
    }
   ],
   "source": [
    "df.loc[df['ts_code'] == '000001',]"
   ],
   "metadata": {
    "collapsed": false
   }
  },
  {
   "cell_type": "code",
   "execution_count": 39,
   "outputs": [
    {
     "data": {
      "text/plain": "{'ts_code': '000001',\n 'trade_date': '20180702',\n 'open': 9.05,\n 'high': 9.05,\n 'low': 8.55,\n 'close': 8.61,\n 'pre_close': 9.09,\n 'change': -0.48,\n 'pct_chg': -5.28,\n 'vol': 1315520.13,\n 'amount': 1158545.868}"
     },
     "execution_count": 39,
     "metadata": {},
     "output_type": "execute_result"
    }
   ],
   "source": [
    "tick\n"
   ],
   "metadata": {
    "collapsed": false
   }
  },
  {
   "cell_type": "code",
   "execution_count": 50,
   "outputs": [],
   "source": [
    "def get_target_sec_price_data(date, sec_list):\n",
    "    data = pro.daily(start_date=date, end_date=date)\n",
    "    data['ts_code'] = [x[:6] for x in data.ts_code.tolist()]\n",
    "    data = data.loc[data['ts_code'].isin(sec_list)]\n",
    "    middle_price = [(x + y / 2) for x, y in zip(data.close.tolist(), data.open.tolist())]\n",
    "    return dict(zip(data.ts_code.tolist(), middle_price))"
   ],
   "metadata": {
    "collapsed": false
   }
  },
  {
   "cell_type": "code",
   "execution_count": 53,
   "outputs": [
    {
     "data": {
      "text/plain": "{'000001': 19.0, '600000': 10.765}"
     },
     "execution_count": 53,
     "metadata": {},
     "output_type": "execute_result"
    }
   ],
   "source": [
    "get_target_sec_price_data('20230327', ['000001', '600000'])"
   ],
   "metadata": {
    "collapsed": false
   }
  },
  {
   "cell_type": "code",
   "execution_count": 47,
   "outputs": [],
   "source": [
    "date = '20230327'\n",
    "sec_list = ['000001', '600000']\n",
    "data = pro.daily(start_date=date, end_date=date)\n",
    "data['ts_code'] = [x[:6] for x in data.ts_code.tolist()]\n",
    "data = data.loc[data['ts_code'].isin(sec_list)]\n",
    "middle_price = [(x + y / 2) for x, y in zip(data.close.tolist(), data.open.tolist())]"
   ],
   "metadata": {
    "collapsed": false
   }
  },
  {
   "cell_type": "code",
   "execution_count": 52,
   "outputs": [
    {
     "data": {
      "text/plain": "{'000001': 19.0, '600000': 10.765}"
     },
     "execution_count": 52,
     "metadata": {},
     "output_type": "execute_result"
    }
   ],
   "source": [
    "dict(zip(data.ts_code.tolist(), middle_price))"
   ],
   "metadata": {
    "collapsed": false
   }
  },
  {
   "cell_type": "code",
   "execution_count": 58,
   "outputs": [],
   "source": [
    "df = ts.pro_bar(ts_code='000001', adj='qfq', start_date='20180101', end_date='20181011')\n",
    "df"
   ],
   "metadata": {
    "collapsed": false
   }
  },
  {
   "cell_type": "code",
   "execution_count": null,
   "outputs": [],
   "source": [],
   "metadata": {
    "collapsed": false
   }
  },
  {
   "cell_type": "code",
   "execution_count": 58,
   "outputs": [],
   "source": [],
   "metadata": {
    "collapsed": false
   }
  },
  {
   "cell_type": "code",
   "execution_count": 1,
   "outputs": [],
   "source": [
    "# 获取至指日期证券的中间价\n",
    "def get_target_sec_price_data(date, sec_list):\n",
    "    data = ts.pro_bar(ts_code='000001.SZ', adj='qfq', start_date=date, end_date=date)\n",
    "    for sec in sec_list:\n",
    "        sec = (sec + '.SZ') if sec[0] in ['0', '3'] else (sec + '.SH')\n",
    "        data = data.append(ts.pro_bar(ts_code=sec, adj='qfq', start_date=date, end_date=date))\n",
    "    # data = pro.daily(start_date=date, end_date=date)\n",
    "    data['ts_code'] = [x[:6] for x in data.ts_code.tolist()]\n",
    "    data = data.loc[data['ts_code'].isin(sec_list)]\n",
    "    close = data.close.tolist()\n",
    "    open = data.open.tolist()\n",
    "    middle_price = [round((close[i] + open[i]) / 2, 2) for i in range(len(open))]\n",
    "    return dict(zip(data.ts_code.tolist(), middle_price))"
   ],
   "metadata": {
    "collapsed": false
   }
  },
  {
   "cell_type": "code",
   "execution_count": 9,
   "outputs": [
    {
     "data": {
      "text/plain": "'000338.SZ'"
     },
     "execution_count": 9,
     "metadata": {},
     "output_type": "execute_result"
    }
   ],
   "source": [
    "sec = '000338'\n",
    "(sec + '.SZ') if sec[0] in ['0', '3'] else (sec + '.SH')"
   ],
   "metadata": {
    "collapsed": false
   }
  },
  {
   "cell_type": "code",
   "execution_count": 2,
   "outputs": [],
   "source": [
    "sec_list = ['600210', '000960', '000338']\n",
    "date = '20170727'"
   ],
   "metadata": {
    "collapsed": false
   }
  },
  {
   "cell_type": "code",
   "execution_count": 16,
   "outputs": [
    {
     "data": {
      "text/plain": "{'600210': 6.904999999999999, '000960': 15.02, '000338': 6.625}"
     },
     "execution_count": 16,
     "metadata": {},
     "output_type": "execute_result"
    }
   ],
   "source": [
    "data = ts.pro_bar(ts_code='000001.SZ', adj='qfq', start_date=date, end_date=date)\n",
    "for sec in sec_list:\n",
    "    sec = (sec + '.SZ') if sec[0] in ['0', '3'] else (sec + '.SH')\n",
    "    data = data.append(ts.pro_bar(ts_code=sec, adj='qfq', start_date=date, end_date=date))\n",
    "# data = pro.daily(start_date=date, end_date=date)\n",
    "data['ts_code'] = [x[:6] for x in data.ts_code.tolist()]\n",
    "data = data.loc[data['ts_code'].isin(sec_list)]\n",
    "close = data.close.tolist()\n",
    "open = data.open.tolist()\n",
    "middle_price = [round((close[i] + open[i]) / 2, 2) for i in range(len(open))]\n",
    "dict(zip(data.ts_code.tolist(), middle_price))"
   ],
   "metadata": {
    "collapsed": false
   }
  },
  {
   "cell_type": "code",
   "execution_count": 11,
   "outputs": [
    {
     "data": {
      "text/plain": "  ts_code trade_date   open   high    low  close  pre_close  change  pct_chg  \\\n0  600210   20170727   7.01   7.14   6.70   6.80       7.10   -0.30  -4.2254   \n0  000960   20170727  15.09  15.29  14.40  14.95      15.03   -0.08  -0.5323   \n0  000338   20170727   6.62   6.69   6.56   6.63       6.63    0.00   0.0000   \n\n         vol      amount  \n0  946690.56  654533.350  \n0  553449.45  824000.188  \n0  657939.16  436128.681  ",
      "text/html": "<div>\n<style scoped>\n    .dataframe tbody tr th:only-of-type {\n        vertical-align: middle;\n    }\n\n    .dataframe tbody tr th {\n        vertical-align: top;\n    }\n\n    .dataframe thead th {\n        text-align: right;\n    }\n</style>\n<table border=\"1\" class=\"dataframe\">\n  <thead>\n    <tr style=\"text-align: right;\">\n      <th></th>\n      <th>ts_code</th>\n      <th>trade_date</th>\n      <th>open</th>\n      <th>high</th>\n      <th>low</th>\n      <th>close</th>\n      <th>pre_close</th>\n      <th>change</th>\n      <th>pct_chg</th>\n      <th>vol</th>\n      <th>amount</th>\n    </tr>\n  </thead>\n  <tbody>\n    <tr>\n      <th>0</th>\n      <td>600210</td>\n      <td>20170727</td>\n      <td>7.01</td>\n      <td>7.14</td>\n      <td>6.70</td>\n      <td>6.80</td>\n      <td>7.10</td>\n      <td>-0.30</td>\n      <td>-4.2254</td>\n      <td>946690.56</td>\n      <td>654533.350</td>\n    </tr>\n    <tr>\n      <th>0</th>\n      <td>000960</td>\n      <td>20170727</td>\n      <td>15.09</td>\n      <td>15.29</td>\n      <td>14.40</td>\n      <td>14.95</td>\n      <td>15.03</td>\n      <td>-0.08</td>\n      <td>-0.5323</td>\n      <td>553449.45</td>\n      <td>824000.188</td>\n    </tr>\n    <tr>\n      <th>0</th>\n      <td>000338</td>\n      <td>20170727</td>\n      <td>6.62</td>\n      <td>6.69</td>\n      <td>6.56</td>\n      <td>6.63</td>\n      <td>6.63</td>\n      <td>0.00</td>\n      <td>0.0000</td>\n      <td>657939.16</td>\n      <td>436128.681</td>\n    </tr>\n  </tbody>\n</table>\n</div>"
     },
     "execution_count": 11,
     "metadata": {},
     "output_type": "execute_result"
    }
   ],
   "source": [
    "data"
   ],
   "metadata": {
    "collapsed": false
   }
  },
  {
   "cell_type": "code",
   "execution_count": 25,
   "outputs": [],
   "source": [
    "# akshare前复权数据\n",
    "\n",
    "stock_zh_b_daily_qfq_df = ak.stock_zh_b_daily(symbol=\"sz000960\", start_date=\"20170731\", end_date=\"20170731\",\n",
    "                                              adjust=\"qfq\")"
   ],
   "metadata": {
    "collapsed": false
   }
  },
  {
   "cell_type": "code",
   "execution_count": 7,
   "outputs": [],
   "source": [
    "sec_list = ['600210', '000960', '000338']\n",
    "date = '20170727'"
   ],
   "metadata": {
    "collapsed": false
   }
  },
  {
   "cell_type": "code",
   "execution_count": 8,
   "outputs": [
    {
     "data": {
      "text/plain": "{'600210': 5.58, '000960': 14.92, '000338': 5.57}"
     },
     "execution_count": 8,
     "metadata": {},
     "output_type": "execute_result"
    }
   ],
   "source": [
    "data = ak.stock_zh_b_daily(symbol='sz000001', adjust='qfq', start_date=date, end_date=date)\n",
    "data.drop([0], inplace=True)\n",
    "for sec in sec_list:\n",
    "    sec = ('sz' + sec) if sec[0] in ['0', '3'] else ('sh' + sec)\n",
    "    data = data.append(ak.stock_zh_b_daily(symbol=sec, adjust='qfq', start_date=date, end_date=date))\n",
    "data['ts_code'] = sec_list\n",
    "# data = pro.daily(start_date=date, end_date=date)\n",
    "#data['ts_code'] = [x[:6] for x in data.ts_code.tolist()]\n",
    "data = data.loc[data['ts_code'].isin(sec_list)]\n",
    "close = data.close.tolist()\n",
    "open = data.open.tolist()\n",
    "middle_price = [round((close[i] + open[i]) / 2, 2) for i in range(len(open))]\n",
    "dict(zip(data.ts_code.tolist(), middle_price))"
   ],
   "metadata": {
    "collapsed": false
   }
  },
  {
   "cell_type": "code",
   "execution_count": 9,
   "outputs": [
    {
     "data": {
      "text/plain": "{}"
     },
     "execution_count": 9,
     "metadata": {},
     "output_type": "execute_result"
    }
   ],
   "source": [
    "# 获取至指日期证券的中间价\n",
    "def get_target_sec_price_data(date, sec_list):\n",
    "    data = ak.stock_zh_b_daily(symbol='sz000001', adjust='qfq', start_date=date, end_date=date)\n",
    "    data.drop([0], inplace=True)\n",
    "    sec_list2 = []\n",
    "    for sec in sec_list:\n",
    "        sec = ('sz' + sec) if sec[0] in ['0', '3'] else ('sh' + sec)\n",
    "        data = data.append(ak.stock_zh_b_daily(symbol=sec, adjust='qfq', start_date=date, end_date=date))\n",
    "        if data.empty != True:\n",
    "            sec_list2.append(sec)\n",
    "    data['ts_code'] = sec_list2\n",
    "    # data = pro.daily(start_date=date, end_date=date)\n",
    "    # data['ts_code'] = [x[:6] for x in data.ts_code.tolist()]\n",
    "    data = data.loc[data['ts_code'].isin(sec_list)]\n",
    "    close = data.close.tolist()\n",
    "    open = data.open.tolist()\n",
    "    middle_price = [round((close[i] + open[i]) / 2, 2) for i in range(len(open))]\n",
    "    return dict(zip(data.ts_code.tolist(), middle_price))\n",
    "\n",
    "\n",
    "get_target_sec_price_data(date, sec_list)"
   ],
   "metadata": {
    "collapsed": false
   }
  },
  {
   "cell_type": "code",
   "execution_count": 34,
   "outputs": [
    {
     "data": {
      "text/plain": "{'600210': 5.58, '000960': 14.92, '000338': 5.57}"
     },
     "execution_count": 34,
     "metadata": {},
     "output_type": "execute_result"
    }
   ],
   "source": [
    "\n",
    "data = ak.stock_zh_b_daily(symbol='sz000001', adjust='qfq', start_date=date, end_date=date)\n",
    "data['ts_code'] = ['sz000001']\n",
    "for sec in sec_list:\n",
    "    sec = ('sz' + sec) if sec[0] in ['0', '3'] else ('sh' + sec)\n",
    "    new_data = ak.stock_zh_b_daily(symbol=sec, adjust='qfq', start_date=date, end_date=date)\n",
    "    if new_data.empty != True:\n",
    "        new_data['ts_code'] = [sec[-6:]]\n",
    "        data = data.append(new_data)\n",
    "# data = pro.daily(start_date=date, end_date=date)\n",
    "data = data.loc[data['ts_code'].isin(sec_list)]\n",
    "close = data.close.tolist()\n",
    "open = data.open.tolist()\n",
    "middle_price = [round((close[i] + open[i]) / 2, 2) for i in range(len(open))]\n",
    "dict(zip(data.ts_code.tolist(), middle_price))"
   ],
   "metadata": {
    "collapsed": false
   }
  },
  {
   "cell_type": "code",
   "execution_count": 31,
   "outputs": [],
   "source": [
    "middle_price = [round((close[i] + open[i]) / 2, 2) for i in range(len(open))]"
   ],
   "metadata": {
    "collapsed": false
   }
  },
  {
   "cell_type": "code",
   "execution_count": 32,
   "outputs": [
    {
     "data": {
      "text/plain": "{'600210': 5.58, '000960': 14.92, '000338': 5.57}"
     },
     "execution_count": 32,
     "metadata": {},
     "output_type": "execute_result"
    }
   ],
   "source": [
    "dict(zip(data.ts_code.tolist(), middle_price))"
   ],
   "metadata": {
    "collapsed": false
   }
  },
  {
   "cell_type": "code",
   "execution_count": 11,
   "outputs": [],
   "source": [
    "import akshare as ak\n",
    "\n",
    "data = ak.stock_zh_a_hist(symbol='000001', adjust='qfq', start_date=date, end_date=date)\n",
    "data['ts_code'] = ['000001']\n",
    "for sec in sec_list:\n",
    "    # sec = ('sz' + sec) if sec[0] in ['0', '3'] else ('sh' + sec)\n",
    "    new_data = ak.stock_zh_a_hist(symbol=sec, adjust='qfq', start_date=date, end_date=date)\n",
    "    if new_data.empty != True:\n",
    "        # new_data['ts_code'] = [sec[-6:]]\n",
    "        new_data['ts_code'] = [sec]\n",
    "        data = data.append(new_data)\n",
    "# data = pro.daily(start_date=date, end_date=date)\n",
    "data = data.loc[data['ts_code'].isin(sec_list)]\n",
    "close = data['收盘'].tolist()\n",
    "open = data['开盘'].tolist()\n",
    "middle_price = [round((close[i] + open[i]) / 2, 2) for i in range(len(open))]\n"
   ],
   "metadata": {
    "collapsed": false
   }
  },
  {
   "cell_type": "code",
   "execution_count": 12,
   "outputs": [
    {
     "data": {
      "text/plain": "{'600210': 5.8, '000960': 14.91, '000338': 4.63}"
     },
     "execution_count": 12,
     "metadata": {},
     "output_type": "execute_result"
    }
   ],
   "source": [
    "dict(zip(data.ts_code.tolist(), middle_price))"
   ],
   "metadata": {
    "collapsed": false
   }
  },
  {
   "cell_type": "code",
   "execution_count": 10,
   "outputs": [
    {
     "data": {
      "text/plain": "           日期    开盘    收盘    最高    最低      成交量           成交额    振幅   涨跌幅  \\\n0  2017-07-27  9.81  9.68  9.86  9.62  1194490  1.273889e+09  2.44 -1.53   \n\n    涨跌额   换手率  \n0 -0.15  0.71  ",
      "text/html": "<div>\n<style scoped>\n    .dataframe tbody tr th:only-of-type {\n        vertical-align: middle;\n    }\n\n    .dataframe tbody tr th {\n        vertical-align: top;\n    }\n\n    .dataframe thead th {\n        text-align: right;\n    }\n</style>\n<table border=\"1\" class=\"dataframe\">\n  <thead>\n    <tr style=\"text-align: right;\">\n      <th></th>\n      <th>日期</th>\n      <th>开盘</th>\n      <th>收盘</th>\n      <th>最高</th>\n      <th>最低</th>\n      <th>成交量</th>\n      <th>成交额</th>\n      <th>振幅</th>\n      <th>涨跌幅</th>\n      <th>涨跌额</th>\n      <th>换手率</th>\n    </tr>\n  </thead>\n  <tbody>\n    <tr>\n      <th>0</th>\n      <td>2017-07-27</td>\n      <td>9.81</td>\n      <td>9.68</td>\n      <td>9.86</td>\n      <td>9.62</td>\n      <td>1194490</td>\n      <td>1.273889e+09</td>\n      <td>2.44</td>\n      <td>-1.53</td>\n      <td>-0.15</td>\n      <td>0.71</td>\n    </tr>\n  </tbody>\n</table>\n</div>"
     },
     "execution_count": 10,
     "metadata": {},
     "output_type": "execute_result"
    }
   ],
   "source": [
    "ak.stock_zh_a_hist(symbol='000001', adjust='qfq', start_date=date, end_date=date)"
   ],
   "metadata": {
    "collapsed": false
   }
  },
  {
   "cell_type": "code",
   "execution_count": null,
   "outputs": [],
   "source": [],
   "metadata": {
    "collapsed": false
   }
  }
 ],
 "metadata": {
  "kernelspec": {
   "display_name": "Python 3",
   "language": "python",
   "name": "python3"
  },
  "language_info": {
   "codemirror_mode": {
    "name": "ipython",
    "version": 2
   },
   "file_extension": ".py",
   "mimetype": "text/x-python",
   "name": "python",
   "nbconvert_exporter": "python",
   "pygments_lexer": "ipython2",
   "version": "2.7.6"
  }
 },
 "nbformat": 4,
 "nbformat_minor": 0
}
