{
 "cells": [
  {
   "cell_type": "code",
   "execution_count": 1,
   "metadata": {
    "collapsed": true
   },
   "outputs": [],
   "source": [
    "date = '20230328'\n",
    "year = date[:4]\n",
    "short_date = date[4:]\n",
    "if short_date <= '0430':\n",
    "    yj_peridos = [year + '0331', str(int(year) - 1) + '1231', year + '0630']\n",
    "elif short_date <= '0830':\n",
    "    yj_peridos = [year + '0630', year + '0930', year + '1231']\n",
    "elif short_date <= '1030':\n",
    "    yj_peridos = [year + '0930', year + '1231']\n",
    "elif short_date <= '1101':\n",
    "    yj_peridos = [year + '1231']"
   ]
  },
  {
   "cell_type": "code",
   "execution_count": 3,
   "outputs": [],
   "source": [
    "def get_yj_period(date):\n",
    "    year = date[:4]\n",
    "    short_date = date[4:]\n",
    "    if short_date <= '0430':\n",
    "        yj_peridos = [str(int(year) - 1) + '1231']\n",
    "    elif short_date <= '0830':\n",
    "        yj_peridos = [year + '0630']\n",
    "    elif short_date <= '1030':\n",
    "        yj_peridos = [year + '0930']\n",
    "    elif short_date <= '1101':\n",
    "        yj_peridos = [year + '1231']\n",
    "    return yj_peridos\n"
   ],
   "metadata": {
    "collapsed": false
   }
  },
  {
   "cell_type": "code",
   "execution_count": 4,
   "outputs": [
    {
     "data": {
      "text/plain": "['20230331', '20221231', '20230630']"
     },
     "execution_count": 4,
     "metadata": {},
     "output_type": "execute_result"
    }
   ],
   "source": [
    "get_yj_period('20230328')"
   ],
   "metadata": {
    "collapsed": false
   }
  },
  {
   "cell_type": "code",
   "execution_count": null,
   "outputs": [],
   "source": [],
   "metadata": {
    "collapsed": false
   }
  }
 ],
 "metadata": {
  "kernelspec": {
   "display_name": "Python 3",
   "language": "python",
   "name": "python3"
  },
  "language_info": {
   "codemirror_mode": {
    "name": "ipython",
    "version": 2
   },
   "file_extension": ".py",
   "mimetype": "text/x-python",
   "name": "python",
   "nbconvert_exporter": "python",
   "pygments_lexer": "ipython2",
   "version": "2.7.6"
  }
 },
 "nbformat": 4,
 "nbformat_minor": 0
}
